{
 "cells": [
  {
   "cell_type": "markdown",
   "id": "6e7aad02",
   "metadata": {},
   "source": [
    "\n",
    "\n",
    "In KLayout geometries are in datatabase units (dbu) or microns. GDS uses an integer grid as a basis for geometries. The default is 0.001, i.e. 1nm grid size (0.001 microns)\n",
    "\n",
    "Point, Box, Polygon, Edge, Region are in dbu DPoint, DBox, DPolygon, DEdge are in microns\n",
    "\n",
    "Most Shape types are available as microns and dbu parts. They can be converted with <ShapeTypeDBU>.to_dtype(dbu) to microns and with <ShapeTypeMicrons>.to_itype(dbu) where dbu is the the conversion of one database unit to microns\n",
    "\n",
    "Lets add a polygon\n",
    "# KCell\n",
    "\n",
    "\n",
    "A `Cell` is like an empty canvas, where you can add polygons, references to other Components and ports (to connect to other components)\n",
    "\n",
    "In KLayout geometries are in datatabase units (dbu) or microns. GDS uses an integer grid as a basis for geometries. The default is `0.001`, i.e. 1nm grid size (0.001 microns)\n",
    "\n",
    "`Point`, `Box`, `Polygon`, `Edge`, `Region` are in dbu\n",
    "`DPoint`, `DBox`, `DPolygon`, `DEdge` are in microns\n",
    "\n",
    "Most Shape types are available as microns and dbu parts. They can be converted with `<ShapeTypeDBU>.to_dtype(dbu)` to microns and with `<ShapeTypeMicrons>.to_itype(dbu)` where `dbu` is the the conversion of one database unit to microns"
   ]
  },
  {
   "cell_type": "code",
   "execution_count": null,
   "id": "565b3ea4",
   "metadata": {
    "lines_to_next_cell": 2,
    "vscode": {
     "languageId": "python"
    }
   },
   "outputs": [],
   "source": [
    "import kfactory as kf\n",
    "\n",
    "# Create a blank component (essentially an empty GDS cell with some special features)\n",
    "c = kf.KCell()\n",
    "\n",
    "# Create and add a polygon from separate lists of x points and y points\n",
    "# (Can also be added like [(x1,y1), (x2,y2), (x3,y3), ... ]\n",
    "poly1 = kf.kdb.DPolygon(\n",
    "    [\n",
    "        kf.kdb.DPoint(-8, -6),\n",
    "        kf.kdb.DPoint(6, 8),\n",
    "        kf.kdb.DPoint(7, 17),\n",
    "        kf.kdb.DPoint(9, 5),\n",
    "    ]\n",
    ")\n",
    "\n",
    "\n",
    "c.shapes(c.klib.layer(1, 0)).insert(poly1)\n",
    "# show it in matplotlib and KLayout (you need to have KLayout open and install gdsfactory from the git repo with make install)\n",
    "\n",
    "c\n"
   ]
  },
  {
   "cell_type": "markdown",
   "id": "1bd4504e",
   "metadata": {},
   "source": [
    "**Exercise** :\n",
    "\n",
    "Make a component similar to the one above that has a second polygon in layer (1, 1)"
   ]
  },
  {
   "cell_type": "code",
   "execution_count": null,
   "id": "8a940ea7",
   "metadata": {
    "vscode": {
     "languageId": "python"
    }
   },
   "outputs": [],
   "source": [
    "import kfactory as kf\n",
    "\n",
    "c = kf.KCell()\n",
    "\n",
    "# Create some new geometry from the functions available in the geometry library\n",
    "textgenerator = kf.kdb.TextGenerator.default_generator()\n",
    "t = textgenerator.text(\"Hello!\", c.klib.dbu)\n",
    "# t = gf.components.text(\"Hello!\")\n",
    "\n",
    "r = kf.kdb.DBox(-2.5, -5, 2.5, 5)\n",
    "# r = gf.components.rectangle(size=[5, 10], layer=(2, 0))\n",
    "\n",
    "# Add references to the new geometry to c, our blank component\n",
    "\n",
    "# c.shapes(layer(1,0)).insert(t)\n",
    "# text1 = c.add_ref(t)  # Add the text we created as a reference\n",
    "# Using the << operator (identical to add_ref()), add the same geometry a second time\n",
    "# text2 = c << t\n",
    "# r = c << r  # Add the rectangle we created\n",
    "\n",
    "# Now that the geometry has been added to \"c\", we can move everything around:\n",
    "text1 = t.transformed(\n",
    "    kf.kdb.DTrans(0.0, 10.0).to_itype(c.klib.dbu)\n",
    ")  # DTrans is a transformation in microns with arguments (<rotation in 90° increments>, <mirror boolean>, <x in microns>, <y in microns>)\n",
    "### complex transformation example:ce\n",
    "#     magnification(float): magnification, DO NOT USE on cells or references, only shapes, most foundries will not allow magnifications on actual cell references or cells\n",
    "#     rotation(float): rotation in degrees\n",
    "#     mirror(bool): boolean to mirror at x axis and then rotate if true\n",
    "#     x(float): x coordinate\n",
    "#     y(float): y coordinate\n",
    "#\n",
    "text2 = t.transformed(kf.kdb.CplxTrans(2.0, 45.0, False, 5.0, 30.0))\n",
    "# text1.movey(25)\n",
    "# text2.move([5, 30])\n",
    "# text2.rotate(45)\n",
    "r.move(\n",
    "    -5, 0\n",
    ")  # boxes can be moved like this, other shapes and cellss/refs need to be moved with .transform\n",
    "r.move(-5, 0)\n",
    "\n",
    "\n",
    "c.shapes(c.klib.layer(1, 0)).insert(text1)\n",
    "c.shapes(c.klib.layer(2, 0)).insert(text2)\n",
    "c.shapes(c.klib.layer(2, 0)).insert(r)\n",
    "\n",
    "c"
   ]
  },
  {
   "cell_type": "markdown",
   "id": "dcc89c56",
   "metadata": {
    "lines_to_next_cell": 2
   },
   "source": [
    "## Connect **ports**\n",
    "\n",
    "Components can have a \"Port\" that allows you to connect ComponentReferences together like legos.\n",
    "\n",
    "You can write a simple function to make a rectangular straight, assign ports to the ends, and then connect those rectangles together."
   ]
  },
  {
   "cell_type": "code",
   "execution_count": null,
   "id": "3358018a",
   "metadata": {
    "vscode": {
     "languageId": "python"
    }
   },
   "outputs": [],
   "source": [
    "@kf.autocell\n",
    "def straight(length=10, width=1, layer=(1, 0)):\n",
    "    wg = kf.KCell()\n",
    "    box = kf.kdb.DBox(length, width)\n",
    "    int_box = box.to_itype(wg.klib.dbu)\n",
    "    _layer = kf.klib.layer(*layer)\n",
    "    wg.shapes(_layer).insert(box)\n",
    "    wg.add_port(\n",
    "        kf.DPort(\n",
    "            name=\"o1\",\n",
    "            position=(box.left, box.center().y),\n",
    "            width=width,\n",
    "            angle=2,\n",
    "            layer=_layer,\n",
    "        )\n",
    "    )\n",
    "    wg.create_port(\n",
    "        name=\"o2\",\n",
    "        trans=kf.kdb.Trans(int_box.right, int_box.center().y),\n",
    "        layer=_layer,\n",
    "        width=int_box.height(),\n",
    "    )\n",
    "    # wg.draw_ports()\n",
    "    return wg\n",
    "\n",
    "\n",
    "c = kf.KCell()\n",
    "\n",
    "wg1 = c << straight(length=6, width=2.5, layer=(1, 0))\n",
    "wg2 = c << straight(length=11, width=2.5, layer=(1, 0))\n",
    "wg3 = c << straight(length=15, width=2.5, layer=(1, 0))\n",
    "\n",
    "# wg2.transform(kf.kdb.DCplxTrans(1, 10, False, 10, 0))\n",
    "# wg3.transform(kf.kdb.DCplxTrans(1, 15, False, 20, 0))\n",
    "# wg2.movey(10).rotate(10)\n",
    "# wg3.movey(20).rotate(15)\n",
    "print(c.name)\n",
    "c"
   ]
  },
  {
   "cell_type": "code",
   "execution_count": null,
   "id": "55b4e6fb",
   "metadata": {
    "vscode": {
     "languageId": "python"
    }
   },
   "outputs": [],
   "source": [
    "# Now we can connect everything together using the ports:\n",
    "\n",
    "# Each straight has two ports: 'W0' and 'E0'.  These are arbitrary\n",
    "# names defined in our straight() function above\n",
    "\n",
    "# Let's keep wg1 in place on the bottom, and connect the other straights to it.\n",
    "# To do that, on wg2 we'll grab the \"W0\" port and connect it to the \"E0\" on wg1:\n",
    "wg2.connect(\"o1\", wg1.ports[\"o2\"])\n",
    "# Next, on wg3 let's grab the \"W0\" port and connect it to the \"E0\" on wg2:\n",
    "wg3.connect(\"o1\", wg2.ports[\"o2\"])\n",
    "\n",
    "c"
   ]
  },
  {
   "cell_type": "code",
   "execution_count": null,
   "id": "f5ab59e7",
   "metadata": {
    "vscode": {
     "languageId": "python"
    }
   },
   "outputs": [],
   "source": [
    "c.add_port(name=\"o1\", port=wg1.ports[\"o1\"])\n",
    "c.add_port(name=\"o2\", port=wg3.ports[\"o2\"])\n",
    "c"
   ]
  },
  {
   "cell_type": "markdown",
   "id": "f439b81d",
   "metadata": {},
   "source": [
    "As you can see the `red` labels are for the component ports while\n",
    "`blue` labels are for the sub-ports (children ports)"
   ]
  },
  {
   "cell_type": "markdown",
   "id": "15a52633",
   "metadata": {},
   "source": [
    "## Move and rotate references\n",
    "\n",
    "You can move, rotate, and reflect references to Components."
   ]
  },
  {
   "cell_type": "code",
   "execution_count": null,
   "id": "49d638de",
   "metadata": {
    "vscode": {
     "languageId": "python"
    }
   },
   "outputs": [],
   "source": [
    "c = kf.KCell()\n",
    "\n",
    "\n",
    "# Create and add a polygon from separate lists of x points and y points\n",
    "# e.g. [(x1, x2, x3, ...), (y1, y2, y3, ...)]\n",
    "c.shapes(c.klib.layer(4, 0)).insert(\n",
    "    kf.kdb.DPolygon([kf.kdb.DPoint(x, y) for x, y in zip((8, 6, 7, 9), (6, 8, 9, 5))])\n",
    ")\n",
    "\n",
    "# Alternatively, create and add a polygon from a list of points\n",
    "# e.g. [(x1,y1), (x2,y2), (x3,y3), ...] using the same function\n",
    "c.shapes(c.klib.layer(4, 0)).insert(\n",
    "    kf.kdb.DPolygon(\n",
    "        [kf.kdb.DPoint(x, y) for (x, y) in ((0, 0), (1, 1), (1, 3), (-3, 3))]\n",
    "    )\n",
    ")\n",
    "\n",
    "\n",
    "c"
   ]
  },
  {
   "cell_type": "markdown",
   "id": "b04ad847",
   "metadata": {},
   "source": [
    "## Ports\n",
    "\n",
    "Your straights wg1/wg2/wg3 are references to other waveguide components.\n",
    "\n",
    "If you want to add ports to the new Component `c` you can use `add_port`, where you can create a new port or use an reference an existing port from the underlying reference."
   ]
  },
  {
   "cell_type": "markdown",
   "id": "01c5ce48",
   "metadata": {},
   "source": [
    "You can access the ports of a Component or ComponentReference"
   ]
  },
  {
   "cell_type": "code",
   "execution_count": null,
   "id": "1de6354a",
   "metadata": {
    "vscode": {
     "languageId": "python"
    }
   },
   "outputs": [],
   "source": [
    "wg2.ports"
   ]
  },
  {
   "cell_type": "markdown",
   "id": "030f042f",
   "metadata": {},
   "source": [
    "## References\n",
    "\n",
    "Now that we have your component `c` is a multi-straight component, you can add references to that component in a new blank Component `c2`, then add two references and shift one to see the movement."
   ]
  },
  {
   "cell_type": "code",
   "execution_count": null,
   "id": "2f3c8f6f",
   "metadata": {
    "vscode": {
     "languageId": "python"
    }
   },
   "outputs": [],
   "source": [
    "c2 = kf.KCell(name=\"MultiMultiWaveguide\")\n",
    "wg1 = straight(layer=(2, 0))\n",
    "wg2 = straight(layer=(2, 0))\n",
    "mwg1_ref = c2.create_inst(wg1)\n",
    "mwg2_ref = c2.create_inst(wg2)\n",
    "mwg2_ref.transform(kf.kdb.DTrans(10, 10))\n",
    "c2"
   ]
  },
  {
   "cell_type": "code",
   "execution_count": null,
   "id": "2c26de5c",
   "metadata": {
    "vscode": {
     "languageId": "python"
    }
   },
   "outputs": [],
   "source": [
    "# Like before, let's connect mwg1 and mwg2 together\n",
    "mwg1_ref.connect(\"o2\", mwg2_ref.ports[\"o1\"])\n",
    "c2"
   ]
  },
  {
   "cell_type": "markdown",
   "id": "d6f78f7a",
   "metadata": {},
   "source": [
    "\n",
    "            self.layout_view.active_cellview().layout().cell(event[\"owner\"].name)\n",
    "## Labels\n",
    "\n",
    "You can add abstract GDS labels (annotate) to your Components, in order to record information\n",
    "directly into the final GDS file without putting any extra geometry onto any layer\n",
    "This label will display in a GDS viewer, but will not be rendered or printed\n",
    "like the polygons created by gf.components.text()."
   ]
  },
  {
   "cell_type": "code",
   "execution_count": null,
   "id": "cceb1fd9",
   "metadata": {
    "vscode": {
     "languageId": "python"
    }
   },
   "outputs": [],
   "source": [
    "c2.shapes(c2.klib.layer(1, 0)).insert(kf.kdb.Text(\"First label\", mwg1_ref.trans))\n",
    "# c2.shapes(c2.klib.layer(1,0).insert(kf.kdb.Text(\"First label\", position=mwg1_ref.center)\n",
    "c2.shapes(c2.klib.layer(1, 0)).insert(kf.kdb.Text(\"Second label\", mwg2_ref.trans))\n",
    "# c2.add_label(text=\"Second label\", position=mwg2_ref.center)\n",
    "\n",
    "# It's very useful for recording information about the devices or layout\n",
    "c2.shapes(c2.klib.layer(10, 0)).insert(\n",
    "    kf.kdb.Text(\n",
    "        f\"The x size of this\\nlayout is {c2.dbbox().width()}\",\n",
    "        kf.kdb.Trans(c2.bbox().right, c2.bbox().top),\n",
    "    )\n",
    ")\n",
    "\n",
    "c2"
   ]
  },
  {
   "cell_type": "markdown",
   "id": "0c555d17",
   "metadata": {},
   "source": [
    "## Boolean shapes\n",
    "\n",
    "If you want to subtract one shape from another, merge two shapes, or\n",
    "perform an XOR on them, you can do that with the `boolean()` function.\n",
    "\n",
    "\n",
    "The ``operation`` argument should be {not, and, or, xor, 'A-B', 'B-A', 'A+B'}.\n",
    "Note that 'A+B' is equivalent to 'or', 'A-B' is equivalent to 'not', and\n",
    "'B-A' is equivalent to 'not' with the operands switched"
   ]
  },
  {
   "cell_type": "code",
   "execution_count": null,
   "id": "1569e8ac",
   "metadata": {
    "vscode": {
     "languageId": "python"
    }
   },
   "outputs": [],
   "source": [
    "e1 = kf.kdb.DPolygon.ellipse(kf.kdb.DBox(10, 8), 64)\n",
    "e2 = kf.kdb.DPolygon.ellipse(kf.kdb.DBox(10, 6), 64).transformed(\n",
    "    kf.kdb.DTrans(2.0, 0.0)\n",
    ")"
   ]
  },
  {
   "cell_type": "code",
   "execution_count": null,
   "id": "4b608993",
   "metadata": {},
   "outputs": [],
   "source": [
    "c = kf.KCell()\n",
    "c.shapes(c.klib.layer(2, 0)).insert(e1)\n",
    "c.shapes(c.klib.layer(3, 0)).insert(e2)\n",
    "c"
   ]
  },
  {
   "cell_type": "code",
   "execution_count": null,
   "id": "41f3c8f3",
   "metadata": {},
   "outputs": [],
   "source": [
    "# e1 NOT e2\n",
    "c = kf.KCell()\n",
    "e3 = kf.kdb.Region(e1.to_itype(c.klib.dbu)) - kf.kdb.Region(e2.to_itype(c.klib.dbu))\n",
    "c.shapes(c.klib.layer(1, 0)).insert(e3)\n",
    "c"
   ]
  },
  {
   "cell_type": "code",
   "execution_count": null,
   "id": "8df933e7",
   "metadata": {},
   "outputs": [],
   "source": [
    "# e1 AND e2\n",
    "c = kf.KCell()\n",
    "e3 = kf.kdb.Region(e1.to_itype(c.klib.dbu)) & kf.kdb.Region(e2.to_itype(c.klib.dbu))\n",
    "c.shapes(c.klib.layer(1, 0)).insert(e3)\n",
    "c"
   ]
  },
  {
   "cell_type": "code",
   "execution_count": null,
   "id": "d8549b49",
   "metadata": {},
   "outputs": [],
   "source": [
    "# e1 OR e2\n",
    "c = kf.KCell()\n",
    "e3 = kf.kdb.Region(e1.to_itype(c.klib.dbu)) + kf.kdb.Region(e2.to_itype(c.klib.dbu))\n",
    "c.shapes(c.klib.layer(1, 0)).insert(e3)\n",
    "c"
   ]
  },
  {
   "cell_type": "code",
   "execution_count": null,
   "id": "f49182ab",
   "metadata": {},
   "outputs": [],
   "source": [
    "# e1 OR e2 (merged)\n",
    "c = kf.KCell()\n",
    "e3 = (\n",
    "    kf.kdb.Region(e1.to_itype(c.klib.dbu)) + kf.kdb.Region(e2.to_itype(c.klib.dbu))\n",
    ").merge()\n",
    "c.shapes(c.klib.layer(1, 0)).insert(e3)\n",
    "c"
   ]
  },
  {
   "cell_type": "code",
   "execution_count": null,
   "id": "b1dccd5c",
   "metadata": {},
   "outputs": [],
   "source": [
    "# e1 XOR e2\n",
    "c = kf.KCell()\n",
    "e3 = kf.kdb.Region(e1.to_itype(c.klib.dbu)) ^ kf.kdb.Region(e2.to_itype(c.klib.dbu))\n",
    "c.shapes(c.klib.layer(1, 0)).insert(e3)\n",
    "c"
   ]
  },
  {
   "cell_type": "markdown",
   "id": "23910d0b",
   "metadata": {},
   "source": [
    "## Move Reference by port"
   ]
  },
  {
   "cell_type": "code",
   "execution_count": null,
   "id": "64e87c10",
   "metadata": {
    "vscode": {
     "languageId": "python"
    }
   },
   "outputs": [],
   "source": [
    "# MMI not implemented yet\n",
    "\n",
    "# c = kf.KCell()\n",
    "# mmi = c.add_ref(gf.components.mmi1x2())\n",
    "# bend = c.add_ref(gf.components.bend_circular(layer=(2, 0)))\n",
    "# c"
   ]
  },
  {
   "cell_type": "code",
   "execution_count": null,
   "id": "a2263f85",
   "metadata": {
    "vscode": {
     "languageId": "python"
    }
   },
   "outputs": [],
   "source": [
    "# bend.connect(\"o1\", mmi.ports[\"o2\"])  # connects follow Source, destination syntax\n",
    "# c"
   ]
  },
  {
   "cell_type": "markdown",
   "id": "01ead246",
   "metadata": {},
   "source": [
    "## Mirror reference\n",
    "\n",
    "By default the mirror works along the x=0 axis."
   ]
  },
  {
   "cell_type": "code",
   "execution_count": null,
   "id": "04e6c6b8",
   "metadata": {
    "vscode": {
     "languageId": "python"
    }
   },
   "outputs": [],
   "source": [
    "# c = gf.Component(\"ref_mirror\")\n",
    "# mmi = c.add_ref(gf.components.mmi1x2())\n",
    "# bend = c.add_ref(gf.components.bend_circular(layer=(2, 0)))\n",
    "# c"
   ]
  },
  {
   "cell_type": "code",
   "execution_count": null,
   "id": "11c4b87f",
   "metadata": {
    "vscode": {
     "languageId": "python"
    }
   },
   "outputs": [],
   "source": [
    "# mmi.mirror()\n",
    "# c"
   ]
  },
  {
   "cell_type": "markdown",
   "id": "3f1363e1",
   "metadata": {},
   "source": [
    "## Write GDS\n",
    "\n",
    "[GDSII](https://en.wikipedia.org/wiki/GDSII) is the Standard format for exchanging CMOS and Photonic circuits.\n",
    "\n",
    "You can write your Component to GDS file."
   ]
  },
  {
   "cell_type": "code",
   "execution_count": null,
   "id": "ef4a26a1",
   "metadata": {
    "vscode": {
     "languageId": "python"
    }
   },
   "outputs": [],
   "source": [
    "c.write(\"demo.gds\")"
   ]
  },
  {
   "cell_type": "markdown",
   "id": "c42f7ebf",
   "metadata": {},
   "source": [
    "You can see the GDS file in Klayout viewer.\n",
    "\n",
    "Sometimes you also want to save the GDS together with metadata (settings, port names, widths, locations ...) in YAML"
   ]
  },
  {
   "cell_type": "code",
   "execution_count": null,
   "id": "a136df1a",
   "metadata": {
    "vscode": {
     "languageId": "python"
    }
   },
   "outputs": [],
   "source": [
    "# c.write_gds_with_metadata(\"demo.gds\") # not implemented, normal write writes metadata already"
   ]
  }
 ],
 "metadata": {
  "jupytext": {
   "custom_cell_magics": "kql",
   "formats": "ipynb,py"
  },
  "kernelspec": {
   "display_name": "Python 3 (ipykernel)",
   "language": "python",
   "name": "python3"
  }
 },
 "nbformat": 4,
 "nbformat_minor": 5
}
